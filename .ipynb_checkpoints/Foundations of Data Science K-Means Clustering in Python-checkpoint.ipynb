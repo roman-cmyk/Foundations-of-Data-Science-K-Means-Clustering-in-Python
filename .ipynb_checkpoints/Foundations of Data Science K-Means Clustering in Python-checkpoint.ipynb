{
 "cells": [
  {
   "cell_type": "markdown",
   "metadata": {},
   "source": [
    "### Basic Plotting"
   ]
  },
  {
   "cell_type": "code",
   "execution_count": 1,
   "metadata": {},
   "outputs": [
    {
     "data": {
      "image/png": "[encoded data removed]",
      "text/plain": [
       "<Figure size 432x288 with 1 Axes>"
      ]
     },
     "metadata": {
      "needs_background": "light"
     },
     "output_type": "display_data"
    }
   ],
   "source": [
    "import matplotlib.pyplot as plt\n",
    "\n",
    "xs = [10, 100, 25, 67, 74]\n",
    "ys = [125, 26, 66, 1, 10]\n",
    "\n",
    "plt.scatter(xs, ys)\n",
    "plt.show();"
   ]
  },
  {
   "cell_type": "code",
   "execution_count": 2,
   "metadata": {},
   "outputs": [
    {
     "name": "stdout",
     "output_type": "stream",
     "text": [
      "[[ 10 125]\n",
      " [100  26]\n",
      " [ 25  66]\n",
      " [ 67   1]\n",
      " [ 74  10]]\n",
      "[ 10 100  25  67  74]\n",
      "[125  26  66   1  10]\n"
     ]
    }
   ],
   "source": [
    "import numpy as np\n",
    "\n",
    "xs = [10, 100, 25, 67, 74]\n",
    "ys = [125, 26, 66, 1, 10]\n",
    "\n",
    "xys =[[10, 125], [100, 26], [25, 66], [67, 1], [74, 10]]\n",
    "xys = np.array(xys)\n",
    "\n",
    "print(xys)\n",
    "print(xys[:,0])\n",
    "print(xys[:,1])"
   ]
  },
  {
   "cell_type": "code",
   "execution_count": 3,
   "metadata": {},
   "outputs": [
    {
     "data": {
      "image/png": "[encoded data removed]",
      "text/plain": [
       "<Figure size 432x288 with 1 Axes>"
      ]
     },
     "metadata": {
      "needs_background": "light"
     },
     "output_type": "display_data"
    }
   ],
   "source": [
    "plt.scatter(xys[:,0], xys[:,1])\n",
    "plt.show()"
   ]
  },
  {
   "cell_type": "code",
   "execution_count": 4,
   "metadata": {},
   "outputs": [
    {
     "name": "stdout",
     "output_type": "stream",
     "text": [
      "55.2 45.6\n"
     ]
    }
   ],
   "source": [
    "x_mean = np.mean(xys[:, 0])\n",
    "y_mean = np.mean(xys[:, 1])\n",
    "print(x_mean, y_mean)"
   ]
  },
  {
   "cell_type": "code",
   "execution_count": 5,
   "metadata": {},
   "outputs": [
    {
     "name": "stdout",
     "output_type": "stream",
     "text": [
      "[55.2 45.6]\n",
      "[[ 10 125]\n",
      " [100  26]\n",
      " [ 25  66]\n",
      " [ 67   1]\n",
      " [ 74  10]] [55.2 45.6]\n"
     ]
    }
   ],
   "source": [
    "mean = np.mean(xys, 0)\n",
    "print(mean)\n",
    "print(xys, mean)"
   ]
  },
  {
   "cell_type": "code",
   "execution_count": 6,
   "metadata": {},
   "outputs": [
    {
     "data": {
      "image/png": "[encoded data removed]",
      "text/plain": [
       "<Figure size 432x288 with 1 Axes>"
      ]
     },
     "metadata": {
      "needs_background": "light"
     },
     "output_type": "display_data"
    }
   ],
   "source": [
    "import matplotlib.pyplot as plt\n",
    "import matplotlib.patches as patches\n",
    "import numpy as np\n",
    "mean = np.mean(xys, 0)\n",
    "std_dev = np.std(xys, 0)\n",
    "\n",
    "ellipse = patches.Ellipse([mean[0], mean[1]], std_dev[0]*2, \n",
    "                          std_dev[1]*2, alpha = 0.25)\n",
    "fig, graph = plt.subplots()\n",
    "graph.scatter(xys[:, 0], xys[:, 1])\n",
    "graph.scatter(mean[0], mean[1])\n",
    "graph.add_patch(ellipse)\n",
    "plt.show();"
   ]
  },
  {
   "cell_type": "markdown",
   "metadata": {},
   "source": [
    "### List Comprehension"
   ]
  },
  {
   "cell_type": "code",
   "execution_count": 7,
   "metadata": {},
   "outputs": [
    {
     "data": {
      "text/plain": [
       "[7, 9, 11, 13, 15]"
      ]
     },
     "execution_count": 7,
     "metadata": {},
     "output_type": "execute_result"
    }
   ],
   "source": [
    "a = [2, 4, 6, 8, 10]\n",
    "b = [item + 5 for item in a]\n",
    "b"
   ]
  },
  {
   "cell_type": "code",
   "execution_count": 8,
   "metadata": {},
   "outputs": [
    {
     "name": "stdout",
     "output_type": "stream",
     "text": [
      "[91.36410673782129, 48.89989775040434, 36.444478319767455, 46.13458572481171, 40.25916044827562]\n"
     ]
    }
   ],
   "source": [
    "dists = [np.linalg.norm(xy - mean) for xy in xys]\n",
    "print(dists)"
   ]
  },
  {
   "cell_type": "code",
   "execution_count": 9,
   "metadata": {},
   "outputs": [
    {
     "name": "stdout",
     "output_type": "stream",
     "text": [
      "[[ 10 125]\n",
      " [100  26]\n",
      " [ 25  66]\n",
      " [ 67   1]\n",
      " [ 74  10]]\n",
      "[[0.         1.        ]\n",
      " [1.         0.2016129 ]\n",
      " [0.16666667 0.52419355]\n",
      " [0.63333333 0.        ]\n",
      " [0.71111111 0.07258065]]\n"
     ]
    }
   ],
   "source": [
    "min = np.min(xys, 0)\n",
    "max = np.max(xys, 0)\n",
    "normed = (xys - min) / (max - min)\n",
    "print(xys)\n",
    "print(normed)"
   ]
  },
  {
   "cell_type": "markdown",
   "metadata": {},
   "source": [
    "### Normalisation"
   ]
  },
  {
   "cell_type": "code",
   "execution_count": 10,
   "metadata": {},
   "outputs": [
    {
     "data": {
      "image/png": "[encoded data removed]",
      "text/plain": [
       "<Figure size 432x288 with 1 Axes>"
      ]
     },
     "metadata": {
      "needs_background": "light"
     },
     "output_type": "display_data"
    }
   ],
   "source": [
    "mean = np.mean(normed, 0)\n",
    "std_dev = np.std(normed, 0)\n",
    "\n",
    "ellipse = patches.Ellipse([mean[0], mean[1]], std_dev[0]*2, \n",
    "                          std_dev[1]*2, alpha = 0.25)\n",
    "fig, graph = plt.subplots()\n",
    "graph.scatter(normed[:, 0], normed[:, 1])\n",
    "graph.scatter(mean[0], mean[1])\n",
    "graph.add_patch(ellipse)\n",
    "plt.show();"
   ]
  },
  {
   "cell_type": "markdown",
   "metadata": {},
   "source": [
    "### Happy Score Dataset"
   ]
  },
  {
   "cell_type": "code",
   "execution_count": 11,
   "metadata": {},
   "outputs": [],
   "source": [
    "import pandas as pd"
   ]
  },
  {
   "cell_type": "code",
   "execution_count": 12,
   "metadata": {},
   "outputs": [
    {
     "name": "stdout",
     "output_type": "stream",
     "text": [
      "          country  adjusted_satisfaction  avg_satisfaction  std_satisfaction  \\\n",
      "0         Armenia                   37.0               4.9              2.42   \n",
      "1          Angola                   26.0               4.3              3.19   \n",
      "2       Argentina                   60.0               7.1              1.91   \n",
      "3         Austria                   59.0               7.2              2.11   \n",
      "4       Australia                   65.0               7.6              1.80   \n",
      "..            ...                    ...               ...               ...   \n",
      "106       Uruguay                   58.0               7.0              2.13   \n",
      "107       Vietnam                   53.0               6.1              1.77   \n",
      "108  South Africa                   49.0               6.3              2.47   \n",
      "109        Zambia                   37.0               5.0              2.61   \n",
      "110      Zimbabwe                   33.0               4.1              2.16   \n",
      "\n",
      "     avg_income  median_income  income_inequality  \\\n",
      "0       2096.76    1731.506667          31.445556   \n",
      "1       1448.88    1044.240000          42.720000   \n",
      "2       7101.12    5109.400000          45.475556   \n",
      "3      19457.04   16879.620000          30.296250   \n",
      "4      19917.00   15846.060000          35.285000   \n",
      "..          ...            ...                ...   \n",
      "106     7544.40    5269.226667          45.014444   \n",
      "107     2231.40    1643.580000          39.242500   \n",
      "108     3889.32    1506.400000          63.726667   \n",
      "109      956.76     510.060000          55.120000   \n",
      "110     1768.56    1230.600000          43.150000   \n",
      "\n",
      "                            region  happyScore      GDP     country.1  \n",
      "0     'Central and Eastern Europe'       4.350  0.76821       Armenia  \n",
      "1             'Sub-Saharan Africa'       4.033  0.75778        Angola  \n",
      "2    'Latin America and Caribbean'       6.574  1.05351     Argentina  \n",
      "3                 'Western Europe'       7.200  1.33723       Austria  \n",
      "4      'Australia and New Zealand'       7.284  1.33358     Australia  \n",
      "..                             ...         ...      ...           ...  \n",
      "106  'Latin America and Caribbean'       6.485  1.06166       Uruguay  \n",
      "107            'Southeastern Asia'       5.360  0.63216       Vietnam  \n",
      "108           'Sub-Saharan Africa'       4.642  0.92049  South Africa  \n",
      "109           'Sub-Saharan Africa'       5.129  0.47038        Zambia  \n",
      "110           'Sub-Saharan Africa'       4.610  0.27100      Zimbabwe  \n",
      "\n",
      "[111 rows x 11 columns]\n"
     ]
    }
   ],
   "source": [
    "data = pd.read_csv('happyscore_income.csv')\n",
    "print(data)"
   ]
  },
  {
   "cell_type": "code",
   "execution_count": 14,
   "metadata": {},
   "outputs": [
    {
     "data": {
      "text/html": [
       "<div>\n",
       "<style scoped>\n",
       "    .dataframe tbody tr th:only-of-type {\n",
       "        vertical-align: middle;\n",
       "    }\n",
       "\n",
       "    .dataframe tbody tr th {\n",
       "        vertical-align: top;\n",
       "    }\n",
       "\n",
       "    .dataframe thead th {\n",
       "        text-align: right;\n",
       "    }\n",
       "</style>\n",
       "<table border=\"1\" class=\"dataframe\">\n",
       "  <thead>\n",
       "    <tr style=\"text-align: right;\">\n",
       "      <th></th>\n",
       "      <th>country</th>\n",
       "      <th>adjusted_satisfaction</th>\n",
       "      <th>avg_satisfaction</th>\n",
       "      <th>std_satisfaction</th>\n",
       "      <th>avg_income</th>\n",
       "      <th>median_income</th>\n",
       "      <th>income_inequality</th>\n",
       "      <th>region</th>\n",
       "      <th>happyScore</th>\n",
       "      <th>GDP</th>\n",
       "      <th>country.1</th>\n",
       "    </tr>\n",
       "  </thead>\n",
       "  <tbody>\n",
       "    <tr>\n",
       "      <th>0</th>\n",
       "      <td>Armenia</td>\n",
       "      <td>37.0</td>\n",
       "      <td>4.9</td>\n",
       "      <td>2.42</td>\n",
       "      <td>2096.76</td>\n",
       "      <td>1731.506667</td>\n",
       "      <td>31.445556</td>\n",
       "      <td>'Central and Eastern Europe'</td>\n",
       "      <td>4.350</td>\n",
       "      <td>0.76821</td>\n",
       "      <td>Armenia</td>\n",
       "    </tr>\n",
       "    <tr>\n",
       "      <th>1</th>\n",
       "      <td>Angola</td>\n",
       "      <td>26.0</td>\n",
       "      <td>4.3</td>\n",
       "      <td>3.19</td>\n",
       "      <td>1448.88</td>\n",
       "      <td>1044.240000</td>\n",
       "      <td>42.720000</td>\n",
       "      <td>'Sub-Saharan Africa'</td>\n",
       "      <td>4.033</td>\n",
       "      <td>0.75778</td>\n",
       "      <td>Angola</td>\n",
       "    </tr>\n",
       "    <tr>\n",
       "      <th>2</th>\n",
       "      <td>Argentina</td>\n",
       "      <td>60.0</td>\n",
       "      <td>7.1</td>\n",
       "      <td>1.91</td>\n",
       "      <td>7101.12</td>\n",
       "      <td>5109.400000</td>\n",
       "      <td>45.475556</td>\n",
       "      <td>'Latin America and Caribbean'</td>\n",
       "      <td>6.574</td>\n",
       "      <td>1.05351</td>\n",
       "      <td>Argentina</td>\n",
       "    </tr>\n",
       "    <tr>\n",
       "      <th>3</th>\n",
       "      <td>Austria</td>\n",
       "      <td>59.0</td>\n",
       "      <td>7.2</td>\n",
       "      <td>2.11</td>\n",
       "      <td>19457.04</td>\n",
       "      <td>16879.620000</td>\n",
       "      <td>30.296250</td>\n",
       "      <td>'Western Europe'</td>\n",
       "      <td>7.200</td>\n",
       "      <td>1.33723</td>\n",
       "      <td>Austria</td>\n",
       "    </tr>\n",
       "    <tr>\n",
       "      <th>4</th>\n",
       "      <td>Australia</td>\n",
       "      <td>65.0</td>\n",
       "      <td>7.6</td>\n",
       "      <td>1.80</td>\n",
       "      <td>19917.00</td>\n",
       "      <td>15846.060000</td>\n",
       "      <td>35.285000</td>\n",
       "      <td>'Australia and New Zealand'</td>\n",
       "      <td>7.284</td>\n",
       "      <td>1.33358</td>\n",
       "      <td>Australia</td>\n",
       "    </tr>\n",
       "  </tbody>\n",
       "</table>\n",
       "</div>"
      ],
      "text/plain": [
       "     country  adjusted_satisfaction  avg_satisfaction  std_satisfaction  \\\n",
       "0    Armenia                   37.0               4.9              2.42   \n",
       "1     Angola                   26.0               4.3              3.19   \n",
       "2  Argentina                   60.0               7.1              1.91   \n",
       "3    Austria                   59.0               7.2              2.11   \n",
       "4  Australia                   65.0               7.6              1.80   \n",
       "\n",
       "   avg_income  median_income  income_inequality  \\\n",
       "0     2096.76    1731.506667          31.445556   \n",
       "1     1448.88    1044.240000          42.720000   \n",
       "2     7101.12    5109.400000          45.475556   \n",
       "3    19457.04   16879.620000          30.296250   \n",
       "4    19917.00   15846.060000          35.285000   \n",
       "\n",
       "                          region  happyScore      GDP  country.1  \n",
       "0   'Central and Eastern Europe'       4.350  0.76821    Armenia  \n",
       "1           'Sub-Saharan Africa'       4.033  0.75778     Angola  \n",
       "2  'Latin America and Caribbean'       6.574  1.05351  Argentina  \n",
       "3               'Western Europe'       7.200  1.33723    Austria  \n",
       "4    'Australia and New Zealand'       7.284  1.33358  Australia  "
      ]
     },
     "execution_count": 14,
     "metadata": {},
     "output_type": "execute_result"
    }
   ],
   "source": [
    "data.head(5)"
   ]
  },
  {
   "cell_type": "code",
   "execution_count": 15,
   "metadata": {},
   "outputs": [
    {
     "data": {
      "text/html": [
       "<div>\n",
       "<style scoped>\n",
       "    .dataframe tbody tr th:only-of-type {\n",
       "        vertical-align: middle;\n",
       "    }\n",
       "\n",
       "    .dataframe tbody tr th {\n",
       "        vertical-align: top;\n",
       "    }\n",
       "\n",
       "    .dataframe thead th {\n",
       "        text-align: right;\n",
       "    }\n",
       "</style>\n",
       "<table border=\"1\" class=\"dataframe\">\n",
       "  <thead>\n",
       "    <tr style=\"text-align: right;\">\n",
       "      <th></th>\n",
       "      <th>adjusted_satisfaction</th>\n",
       "      <th>avg_satisfaction</th>\n",
       "      <th>std_satisfaction</th>\n",
       "      <th>avg_income</th>\n",
       "      <th>median_income</th>\n",
       "      <th>income_inequality</th>\n",
       "      <th>happyScore</th>\n",
       "      <th>GDP</th>\n",
       "    </tr>\n",
       "  </thead>\n",
       "  <tbody>\n",
       "    <tr>\n",
       "      <th>count</th>\n",
       "      <td>111.000000</td>\n",
       "      <td>111.000000</td>\n",
       "      <td>111.000000</td>\n",
       "      <td>111.000000</td>\n",
       "      <td>111.000000</td>\n",
       "      <td>111.000000</td>\n",
       "      <td>111.000000</td>\n",
       "      <td>111.000000</td>\n",
       "    </tr>\n",
       "    <tr>\n",
       "      <th>mean</th>\n",
       "      <td>48.729730</td>\n",
       "      <td>5.936937</td>\n",
       "      <td>2.124595</td>\n",
       "      <td>6442.751416</td>\n",
       "      <td>5186.005304</td>\n",
       "      <td>38.417805</td>\n",
       "      <td>5.421910</td>\n",
       "      <td>0.841909</td>\n",
       "    </tr>\n",
       "    <tr>\n",
       "      <th>std</th>\n",
       "      <td>12.364131</td>\n",
       "      <td>1.356394</td>\n",
       "      <td>0.316546</td>\n",
       "      <td>6479.533692</td>\n",
       "      <td>5587.037239</td>\n",
       "      <td>8.375557</td>\n",
       "      <td>1.180801</td>\n",
       "      <td>0.387591</td>\n",
       "    </tr>\n",
       "    <tr>\n",
       "      <th>min</th>\n",
       "      <td>19.000000</td>\n",
       "      <td>2.500000</td>\n",
       "      <td>1.380000</td>\n",
       "      <td>572.880000</td>\n",
       "      <td>415.480000</td>\n",
       "      <td>24.215000</td>\n",
       "      <td>2.839000</td>\n",
       "      <td>0.015300</td>\n",
       "    </tr>\n",
       "    <tr>\n",
       "      <th>25%</th>\n",
       "      <td>40.000000</td>\n",
       "      <td>5.100000</td>\n",
       "      <td>1.910000</td>\n",
       "      <td>1519.388684</td>\n",
       "      <td>1167.717333</td>\n",
       "      <td>32.182857</td>\n",
       "      <td>4.568000</td>\n",
       "      <td>0.509930</td>\n",
       "    </tr>\n",
       "    <tr>\n",
       "      <th>50%</th>\n",
       "      <td>48.000000</td>\n",
       "      <td>6.000000</td>\n",
       "      <td>2.130000</td>\n",
       "      <td>3889.320000</td>\n",
       "      <td>2646.973333</td>\n",
       "      <td>36.480000</td>\n",
       "      <td>5.268000</td>\n",
       "      <td>0.918610</td>\n",
       "    </tr>\n",
       "    <tr>\n",
       "      <th>75%</th>\n",
       "      <td>57.000000</td>\n",
       "      <td>7.000000</td>\n",
       "      <td>2.330000</td>\n",
       "      <td>7867.402500</td>\n",
       "      <td>6581.124643</td>\n",
       "      <td>43.380000</td>\n",
       "      <td>6.392000</td>\n",
       "      <td>1.149485</td>\n",
       "    </tr>\n",
       "    <tr>\n",
       "      <th>max</th>\n",
       "      <td>74.000000</td>\n",
       "      <td>8.500000</td>\n",
       "      <td>3.190000</td>\n",
       "      <td>26182.275000</td>\n",
       "      <td>22240.230000</td>\n",
       "      <td>63.726667</td>\n",
       "      <td>7.587000</td>\n",
       "      <td>1.563910</td>\n",
       "    </tr>\n",
       "  </tbody>\n",
       "</table>\n",
       "</div>"
      ],
      "text/plain": [
       "       adjusted_satisfaction  avg_satisfaction  std_satisfaction  \\\n",
       "count             111.000000        111.000000        111.000000   \n",
       "mean               48.729730          5.936937          2.124595   \n",
       "std                12.364131          1.356394          0.316546   \n",
       "min                19.000000          2.500000          1.380000   \n",
       "25%                40.000000          5.100000          1.910000   \n",
       "50%                48.000000          6.000000          2.130000   \n",
       "75%                57.000000          7.000000          2.330000   \n",
       "max                74.000000          8.500000          3.190000   \n",
       "\n",
       "         avg_income  median_income  income_inequality  happyScore         GDP  \n",
       "count    111.000000     111.000000         111.000000  111.000000  111.000000  \n",
       "mean    6442.751416    5186.005304          38.417805    5.421910    0.841909  \n",
       "std     6479.533692    5587.037239           8.375557    1.180801    0.387591  \n",
       "min      572.880000     415.480000          24.215000    2.839000    0.015300  \n",
       "25%     1519.388684    1167.717333          32.182857    4.568000    0.509930  \n",
       "50%     3889.320000    2646.973333          36.480000    5.268000    0.918610  \n",
       "75%     7867.402500    6581.124643          43.380000    6.392000    1.149485  \n",
       "max    26182.275000   22240.230000          63.726667    7.587000    1.563910  "
      ]
     },
     "execution_count": 15,
     "metadata": {},
     "output_type": "execute_result"
    }
   ],
   "source": [
    "data.describe()"
   ]
  },
  {
   "cell_type": "code",
   "execution_count": 16,
   "metadata": {},
   "outputs": [
    {
     "name": "stdout",
     "output_type": "stream",
     "text": [
      "<class 'pandas.core.frame.DataFrame'>\n",
      "RangeIndex: 111 entries, 0 to 110\n",
      "Data columns (total 11 columns):\n",
      " #   Column                 Non-Null Count  Dtype  \n",
      "---  ------                 --------------  -----  \n",
      " 0   country                111 non-null    object \n",
      " 1   adjusted_satisfaction  111 non-null    float64\n",
      " 2   avg_satisfaction       111 non-null    float64\n",
      " 3   std_satisfaction       111 non-null    float64\n",
      " 4   avg_income             111 non-null    float64\n",
      " 5   median_income          111 non-null    float64\n",
      " 6   income_inequality      111 non-null    float64\n",
      " 7   region                 111 non-null    object \n",
      " 8   happyScore             111 non-null    float64\n",
      " 9   GDP                    111 non-null    float64\n",
      " 10  country.1              111 non-null    object \n",
      "dtypes: float64(8), object(3)\n",
      "memory usage: 9.7+ KB\n"
     ]
    }
   ],
   "source": [
    "data.info()"
   ]
  },
  {
   "cell_type": "code",
   "execution_count": 23,
   "metadata": {},
   "outputs": [
    {
     "name": "stdout",
     "output_type": "stream",
     "text": [
      "0    4.350\n",
      "1    4.033\n",
      "2    6.574\n",
      "3    7.200\n",
      "4    7.284\n",
      "Name: happyScore, dtype: float64\n",
      "0     2096.76\n",
      "1     1448.88\n",
      "2     7101.12\n",
      "3    19457.04\n",
      "4    19917.00\n",
      "Name: avg_income, dtype: float64\n"
     ]
    }
   ],
   "source": [
    "happy = data['happyScore']\n",
    "income = data['avg_income']\n",
    "print(happy.head(5))\n",
    "print(income.head(5))"
   ]
  },
  {
   "cell_type": "code",
   "execution_count": 26,
   "metadata": {},
   "outputs": [
    {
     "name": "stdout",
     "output_type": "stream",
     "text": [
      "2.839 7.5870000000000015\n"
     ]
    }
   ],
   "source": [
    "happy.min()\n",
    "happy.max()\n",
    "print(happy.min(),happy.max())"
   ]
  },
  {
   "cell_type": "code",
   "execution_count": 32,
   "metadata": {},
   "outputs": [
    {
     "name": "stdout",
     "output_type": "stream",
     "text": [
      "572.88 26182.275\n"
     ]
    }
   ],
   "source": [
    "income.min()\n",
    "income.max()\n",
    "print(income.min(), income.max())"
   ]
  },
  {
   "cell_type": "code",
   "execution_count": 34,
   "metadata": {},
   "outputs": [],
   "source": [
    "SMALL_SIZE = 8\n",
    "MEDIUM_SIZE = 10\n",
    "BIGGER_SIZE = 12\n",
    "\n",
    "plt.rc('font', size=SMALL_SIZE)          # controls default text sizes\n",
    "plt.rc('axes', titlesize=SMALL_SIZE)     # fontsize of the axes title\n",
    "plt.rc('axes', labelsize=MEDIUM_SIZE)    # fontsize of the x and y labels\n",
    "plt.rc('xtick', labelsize=SMALL_SIZE)    # fontsize of the tick labels\n",
    "plt.rc('ytick', labelsize=SMALL_SIZE)    # fontsize of the tick labels\n",
    "plt.rc('legend', fontsize=SMALL_SIZE)    # legend fontsize\n",
    "plt.rc('figure', titlesize=BIGGER_SIZE)  # fontsize of the figure title"
   ]
  },
  {
   "cell_type": "code",
   "execution_count": 40,
   "metadata": {},
   "outputs": [
    {
     "data": {
      "image/png": "[encoded data removed]",
      "text/plain": [
       "<Figure size 432x288 with 1 Axes>"
      ]
     },
     "metadata": {
      "needs_background": "light"
     },
     "output_type": "display_data"
    }
   ],
   "source": [
    "import matplotlib.pyplot as plt\n",
    "\n",
    "BIGGER_SIZE = 12\n",
    "plt.rc('font', size=BIGGER_SIZE)\n",
    "plt.rc('axes', titlesize=BIGGER_SIZE)\n",
    "\n",
    "plt.title('Hapyness VS Income', color='white', size = 12)\n",
    "plt.xlabel('Income', color = 'white', size = 12)\n",
    "plt.ylabel('Happy Score', color = 'white', size = 12)\n",
    "plt.scatter(income, happy)\n",
    "plt.show()"
   ]
  },
  {
   "cell_type": "markdown",
   "metadata": {},
   "source": [
    "### Sorting Operation"
   ]
  },
  {
   "cell_type": "code",
   "execution_count": 42,
   "metadata": {},
   "outputs": [
    {
     "name": "stdout",
     "output_type": "stream",
     "text": [
      "       country  adjusted_satisfaction  avg_satisfaction  std_satisfaction  \\\n",
      "10     Burundi                   25.0               2.9              1.96   \n",
      "65  Madagascar                   33.0               3.7              1.86   \n",
      "58     Liberia                   37.0               4.4              2.02   \n",
      "72  Mozambique                   34.0               3.8              1.76   \n",
      "73       Niger                   34.0               3.8              1.75   \n",
      "\n",
      "    avg_income  median_income  income_inequality                region  \\\n",
      "10      572.88         436.92          33.360000  'Sub-Saharan Africa'   \n",
      "65      574.20         415.48          40.720000  'Sub-Saharan Africa'   \n",
      "58      653.04         528.72          36.480000  'Sub-Saharan Africa'   \n",
      "72      714.72         488.52          45.580000  'Sub-Saharan Africa'   \n",
      "73      718.40         535.56          37.726667  'Sub-Saharan Africa'   \n",
      "\n",
      "    happyScore      GDP   country.1  \n",
      "10       2.905  0.01530     Burundi  \n",
      "65       3.681  0.20824  Madagascar  \n",
      "58       4.571  0.07120     Liberia  \n",
      "72       4.971  0.08308  Mozambique  \n",
      "73       3.845  0.06940       Niger  \n"
     ]
    }
   ],
   "source": [
    "data.sort_values('avg_income', inplace = True)\n",
    "\n",
    "print(data.head(5))"
   ]
  },
  {
   "cell_type": "code",
   "execution_count": 46,
   "metadata": {},
   "outputs": [
    {
     "data": {
      "text/html": [
       "<div>\n",
       "<style scoped>\n",
       "    .dataframe tbody tr th:only-of-type {\n",
       "        vertical-align: middle;\n",
       "    }\n",
       "\n",
       "    .dataframe tbody tr th {\n",
       "        vertical-align: top;\n",
       "    }\n",
       "\n",
       "    .dataframe thead th {\n",
       "        text-align: right;\n",
       "    }\n",
       "</style>\n",
       "<table border=\"1\" class=\"dataframe\">\n",
       "  <thead>\n",
       "    <tr style=\"text-align: right;\">\n",
       "      <th></th>\n",
       "      <th>country</th>\n",
       "      <th>adjusted_satisfaction</th>\n",
       "      <th>avg_satisfaction</th>\n",
       "      <th>std_satisfaction</th>\n",
       "      <th>avg_income</th>\n",
       "      <th>median_income</th>\n",
       "      <th>income_inequality</th>\n",
       "      <th>region</th>\n",
       "      <th>happyScore</th>\n",
       "      <th>GDP</th>\n",
       "      <th>country.1</th>\n",
       "    </tr>\n",
       "  </thead>\n",
       "  <tbody>\n",
       "    <tr>\n",
       "      <th>49</th>\n",
       "      <td>Italy</td>\n",
       "      <td>57.0</td>\n",
       "      <td>6.6</td>\n",
       "      <td>1.81</td>\n",
       "      <td>15437.595000</td>\n",
       "      <td>13163.070000</td>\n",
       "      <td>34.126250</td>\n",
       "      <td>'Western Europe'</td>\n",
       "      <td>5.948</td>\n",
       "      <td>1.25114</td>\n",
       "      <td>Italy</td>\n",
       "    </tr>\n",
       "    <tr>\n",
       "      <th>44</th>\n",
       "      <td>Ireland</td>\n",
       "      <td>64.0</td>\n",
       "      <td>7.5</td>\n",
       "      <td>1.85</td>\n",
       "      <td>16657.770000</td>\n",
       "      <td>13823.160000</td>\n",
       "      <td>32.418750</td>\n",
       "      <td>'Western Europe'</td>\n",
       "      <td>6.940</td>\n",
       "      <td>1.33596</td>\n",
       "      <td>Ireland</td>\n",
       "    </tr>\n",
       "    <tr>\n",
       "      <th>90</th>\n",
       "      <td>Sweden</td>\n",
       "      <td>67.0</td>\n",
       "      <td>7.8</td>\n",
       "      <td>1.72</td>\n",
       "      <td>17032.755000</td>\n",
       "      <td>15166.605000</td>\n",
       "      <td>26.950000</td>\n",
       "      <td>'Western Europe'</td>\n",
       "      <td>7.364</td>\n",
       "      <td>1.33171</td>\n",
       "      <td>Sweden</td>\n",
       "    </tr>\n",
       "    <tr>\n",
       "      <th>36</th>\n",
       "      <td>United Kingdom</td>\n",
       "      <td>60.0</td>\n",
       "      <td>7.1</td>\n",
       "      <td>1.98</td>\n",
       "      <td>17099.550000</td>\n",
       "      <td>14172.735000</td>\n",
       "      <td>34.432500</td>\n",
       "      <td>'Western Europe'</td>\n",
       "      <td>6.867</td>\n",
       "      <td>1.26637</td>\n",
       "      <td>United Kingdom</td>\n",
       "    </tr>\n",
       "    <tr>\n",
       "      <th>7</th>\n",
       "      <td>Belgium</td>\n",
       "      <td>63.0</td>\n",
       "      <td>7.2</td>\n",
       "      <td>1.72</td>\n",
       "      <td>17168.505000</td>\n",
       "      <td>15166.455000</td>\n",
       "      <td>28.745000</td>\n",
       "      <td>'Western Europe'</td>\n",
       "      <td>6.937</td>\n",
       "      <td>1.30782</td>\n",
       "      <td>Belgium</td>\n",
       "    </tr>\n",
       "    <tr>\n",
       "      <th>33</th>\n",
       "      <td>Finland</td>\n",
       "      <td>70.0</td>\n",
       "      <td>7.9</td>\n",
       "      <td>1.53</td>\n",
       "      <td>17310.195000</td>\n",
       "      <td>14962.560000</td>\n",
       "      <td>27.723750</td>\n",
       "      <td>'Western Europe'</td>\n",
       "      <td>7.406</td>\n",
       "      <td>1.29025</td>\n",
       "      <td>Finland</td>\n",
       "    </tr>\n",
       "    <tr>\n",
       "      <th>27</th>\n",
       "      <td>Denmark</td>\n",
       "      <td>74.0</td>\n",
       "      <td>8.4</td>\n",
       "      <td>1.53</td>\n",
       "      <td>17496.510000</td>\n",
       "      <td>15630.885000</td>\n",
       "      <td>28.155000</td>\n",
       "      <td>'Western Europe'</td>\n",
       "      <td>7.527</td>\n",
       "      <td>1.32548</td>\n",
       "      <td>Denmark</td>\n",
       "    </tr>\n",
       "    <tr>\n",
       "      <th>34</th>\n",
       "      <td>France</td>\n",
       "      <td>52.0</td>\n",
       "      <td>6.4</td>\n",
       "      <td>2.15</td>\n",
       "      <td>18096.788571</td>\n",
       "      <td>14971.251429</td>\n",
       "      <td>32.255714</td>\n",
       "      <td>'Western Europe'</td>\n",
       "      <td>6.575</td>\n",
       "      <td>1.27778</td>\n",
       "      <td>France</td>\n",
       "    </tr>\n",
       "    <tr>\n",
       "      <th>76</th>\n",
       "      <td>Netherlands</td>\n",
       "      <td>69.0</td>\n",
       "      <td>7.6</td>\n",
       "      <td>1.38</td>\n",
       "      <td>18234.435000</td>\n",
       "      <td>15880.545000</td>\n",
       "      <td>29.271250</td>\n",
       "      <td>'Western Europe'</td>\n",
       "      <td>7.378</td>\n",
       "      <td>1.32944</td>\n",
       "      <td>Netherlands</td>\n",
       "    </tr>\n",
       "    <tr>\n",
       "      <th>48</th>\n",
       "      <td>Iceland</td>\n",
       "      <td>71.0</td>\n",
       "      <td>8.1</td>\n",
       "      <td>1.64</td>\n",
       "      <td>18828.345000</td>\n",
       "      <td>16179.315000</td>\n",
       "      <td>28.780000</td>\n",
       "      <td>'Western Europe'</td>\n",
       "      <td>7.561</td>\n",
       "      <td>1.30232</td>\n",
       "      <td>Iceland</td>\n",
       "    </tr>\n",
       "    <tr>\n",
       "      <th>25</th>\n",
       "      <td>Germany</td>\n",
       "      <td>61.0</td>\n",
       "      <td>7.2</td>\n",
       "      <td>1.99</td>\n",
       "      <td>19285.960000</td>\n",
       "      <td>16291.260000</td>\n",
       "      <td>31.541667</td>\n",
       "      <td>'Western Europe'</td>\n",
       "      <td>6.750</td>\n",
       "      <td>1.32792</td>\n",
       "      <td>Germany</td>\n",
       "    </tr>\n",
       "    <tr>\n",
       "      <th>3</th>\n",
       "      <td>Austria</td>\n",
       "      <td>59.0</td>\n",
       "      <td>7.2</td>\n",
       "      <td>2.11</td>\n",
       "      <td>19457.040000</td>\n",
       "      <td>16879.620000</td>\n",
       "      <td>30.296250</td>\n",
       "      <td>'Western Europe'</td>\n",
       "      <td>7.200</td>\n",
       "      <td>1.33723</td>\n",
       "      <td>Austria</td>\n",
       "    </tr>\n",
       "    <tr>\n",
       "      <th>4</th>\n",
       "      <td>Australia</td>\n",
       "      <td>65.0</td>\n",
       "      <td>7.6</td>\n",
       "      <td>1.80</td>\n",
       "      <td>19917.000000</td>\n",
       "      <td>15846.060000</td>\n",
       "      <td>35.285000</td>\n",
       "      <td>'Australia and New Zealand'</td>\n",
       "      <td>7.284</td>\n",
       "      <td>1.33358</td>\n",
       "      <td>Australia</td>\n",
       "    </tr>\n",
       "    <tr>\n",
       "      <th>16</th>\n",
       "      <td>Canada</td>\n",
       "      <td>69.0</td>\n",
       "      <td>8.0</td>\n",
       "      <td>1.71</td>\n",
       "      <td>20190.780000</td>\n",
       "      <td>16829.100000</td>\n",
       "      <td>33.790000</td>\n",
       "      <td>'North America'</td>\n",
       "      <td>7.427</td>\n",
       "      <td>1.32629</td>\n",
       "      <td>Canada</td>\n",
       "    </tr>\n",
       "    <tr>\n",
       "      <th>77</th>\n",
       "      <td>Norway</td>\n",
       "      <td>70.0</td>\n",
       "      <td>8.0</td>\n",
       "      <td>1.62</td>\n",
       "      <td>21877.710000</td>\n",
       "      <td>19477.620000</td>\n",
       "      <td>27.307500</td>\n",
       "      <td>'Western Europe'</td>\n",
       "      <td>7.522</td>\n",
       "      <td>1.45900</td>\n",
       "      <td>Norway</td>\n",
       "    </tr>\n",
       "    <tr>\n",
       "      <th>105</th>\n",
       "      <td>United States</td>\n",
       "      <td>62.0</td>\n",
       "      <td>7.3</td>\n",
       "      <td>1.92</td>\n",
       "      <td>23127.000000</td>\n",
       "      <td>17925.360000</td>\n",
       "      <td>41.090000</td>\n",
       "      <td>'North America'</td>\n",
       "      <td>7.119</td>\n",
       "      <td>1.39451</td>\n",
       "      <td>United States</td>\n",
       "    </tr>\n",
       "    <tr>\n",
       "      <th>17</th>\n",
       "      <td>Switzerland</td>\n",
       "      <td>70.0</td>\n",
       "      <td>8.0</td>\n",
       "      <td>1.62</td>\n",
       "      <td>23400.040000</td>\n",
       "      <td>19442.920000</td>\n",
       "      <td>32.930000</td>\n",
       "      <td>'Western Europe'</td>\n",
       "      <td>7.587</td>\n",
       "      <td>1.39651</td>\n",
       "      <td>Switzerland</td>\n",
       "    </tr>\n",
       "    <tr>\n",
       "      <th>61</th>\n",
       "      <td>Luxembourg</td>\n",
       "      <td>66.0</td>\n",
       "      <td>7.7</td>\n",
       "      <td>1.76</td>\n",
       "      <td>26182.275000</td>\n",
       "      <td>22240.230000</td>\n",
       "      <td>31.950000</td>\n",
       "      <td>'Western Europe'</td>\n",
       "      <td>6.946</td>\n",
       "      <td>1.56391</td>\n",
       "      <td>Luxembourg</td>\n",
       "    </tr>\n",
       "  </tbody>\n",
       "</table>\n",
       "</div>"
      ],
      "text/plain": [
       "            country  adjusted_satisfaction  avg_satisfaction  \\\n",
       "49            Italy                   57.0               6.6   \n",
       "44          Ireland                   64.0               7.5   \n",
       "90           Sweden                   67.0               7.8   \n",
       "36   United Kingdom                   60.0               7.1   \n",
       "7           Belgium                   63.0               7.2   \n",
       "33          Finland                   70.0               7.9   \n",
       "27          Denmark                   74.0               8.4   \n",
       "34           France                   52.0               6.4   \n",
       "76      Netherlands                   69.0               7.6   \n",
       "48          Iceland                   71.0               8.1   \n",
       "25          Germany                   61.0               7.2   \n",
       "3           Austria                   59.0               7.2   \n",
       "4         Australia                   65.0               7.6   \n",
       "16           Canada                   69.0               8.0   \n",
       "77           Norway                   70.0               8.0   \n",
       "105   United States                   62.0               7.3   \n",
       "17      Switzerland                   70.0               8.0   \n",
       "61       Luxembourg                   66.0               7.7   \n",
       "\n",
       "     std_satisfaction    avg_income  median_income  income_inequality  \\\n",
       "49               1.81  15437.595000   13163.070000          34.126250   \n",
       "44               1.85  16657.770000   13823.160000          32.418750   \n",
       "90               1.72  17032.755000   15166.605000          26.950000   \n",
       "36               1.98  17099.550000   14172.735000          34.432500   \n",
       "7                1.72  17168.505000   15166.455000          28.745000   \n",
       "33               1.53  17310.195000   14962.560000          27.723750   \n",
       "27               1.53  17496.510000   15630.885000          28.155000   \n",
       "34               2.15  18096.788571   14971.251429          32.255714   \n",
       "76               1.38  18234.435000   15880.545000          29.271250   \n",
       "48               1.64  18828.345000   16179.315000          28.780000   \n",
       "25               1.99  19285.960000   16291.260000          31.541667   \n",
       "3                2.11  19457.040000   16879.620000          30.296250   \n",
       "4                1.80  19917.000000   15846.060000          35.285000   \n",
       "16               1.71  20190.780000   16829.100000          33.790000   \n",
       "77               1.62  21877.710000   19477.620000          27.307500   \n",
       "105              1.92  23127.000000   17925.360000          41.090000   \n",
       "17               1.62  23400.040000   19442.920000          32.930000   \n",
       "61               1.76  26182.275000   22240.230000          31.950000   \n",
       "\n",
       "                          region  happyScore      GDP       country.1  \n",
       "49              'Western Europe'       5.948  1.25114           Italy  \n",
       "44              'Western Europe'       6.940  1.33596         Ireland  \n",
       "90              'Western Europe'       7.364  1.33171          Sweden  \n",
       "36              'Western Europe'       6.867  1.26637  United Kingdom  \n",
       "7               'Western Europe'       6.937  1.30782         Belgium  \n",
       "33              'Western Europe'       7.406  1.29025         Finland  \n",
       "27              'Western Europe'       7.527  1.32548         Denmark  \n",
       "34              'Western Europe'       6.575  1.27778          France  \n",
       "76              'Western Europe'       7.378  1.32944     Netherlands  \n",
       "48              'Western Europe'       7.561  1.30232         Iceland  \n",
       "25              'Western Europe'       6.750  1.32792         Germany  \n",
       "3               'Western Europe'       7.200  1.33723         Austria  \n",
       "4    'Australia and New Zealand'       7.284  1.33358       Australia  \n",
       "16               'North America'       7.427  1.32629          Canada  \n",
       "77              'Western Europe'       7.522  1.45900          Norway  \n",
       "105              'North America'       7.119  1.39451   United States  \n",
       "17              'Western Europe'       7.587  1.39651     Switzerland  \n",
       "61              'Western Europe'       6.946  1.56391      Luxembourg  "
      ]
     },
     "execution_count": 46,
     "metadata": {},
     "output_type": "execute_result"
    }
   ],
   "source": [
    "richest = data[ data['avg_income'] > 15000]\n",
    "\n",
    "richest"
   ]
  },
  {
   "cell_type": "code",
   "execution_count": 47,
   "metadata": {},
   "outputs": [
    {
     "data": {
      "text/plain": [
       "country                             Italy\n",
       "adjusted_satisfaction                  57\n",
       "avg_satisfaction                      6.6\n",
       "std_satisfaction                     1.81\n",
       "avg_income                        15437.6\n",
       "median_income                     13163.1\n",
       "income_inequality                 34.1262\n",
       "region                   'Western Europe'\n",
       "happyScore                          5.948\n",
       "GDP                               1.25114\n",
       "country.1                           Italy\n",
       "Name: 49, dtype: object"
      ]
     },
     "execution_count": 47,
     "metadata": {},
     "output_type": "execute_result"
    }
   ],
   "source": [
    "richest.iloc[0]"
   ]
  },
  {
   "cell_type": "code",
   "execution_count": 48,
   "metadata": {},
   "outputs": [
    {
     "data": {
      "text/plain": [
       "country                        Luxembourg\n",
       "adjusted_satisfaction                  66\n",
       "avg_satisfaction                      7.7\n",
       "std_satisfaction                     1.76\n",
       "avg_income                        26182.3\n",
       "median_income                     22240.2\n",
       "income_inequality                   31.95\n",
       "region                   'Western Europe'\n",
       "happyScore                          6.946\n",
       "GDP                               1.56391\n",
       "country.1                      Luxembourg\n",
       "Name: 61, dtype: object"
      ]
     },
     "execution_count": 48,
     "metadata": {},
     "output_type": "execute_result"
    }
   ],
   "source": [
    "richest.iloc[-1]"
   ]
  },
  {
   "cell_type": "code",
   "execution_count": 62,
   "metadata": {},
   "outputs": [
    {
     "name": "stdout",
     "output_type": "stream",
     "text": [
      "rich_mean= 19266.680753968256\n",
      "all_mean= 6442.751416214639\n",
      "min_rich= 15437.595\n",
      "max_rich= 26182.275\n"
     ]
    }
   ],
   "source": [
    "import numpy as np\n",
    "rich_mean = np.mean(richest['avg_income'])\n",
    "\n",
    "all_mean = np.mean(data['avg_income'])\n",
    "\n",
    "min_rich = np.min(richest['avg_income'])\n",
    "\n",
    "max_rich = np.max(richest['avg_income'])\n",
    "\n",
    "print('rich_mean=', rich_mean)\n",
    "print('all_mean=', all_mean)\n",
    "print('min_rich=', min_rich)\n",
    "print('max_rich=', max_rich)"
   ]
  },
  {
   "cell_type": "code",
   "execution_count": 63,
   "metadata": {},
   "outputs": [
    {
     "name": "stdout",
     "output_type": "stream",
     "text": [
      "1.0.2\n"
     ]
    }
   ],
   "source": [
    "import pandas as pd\n",
    "print(pd.__version__)"
   ]
  },
  {
   "cell_type": "code",
   "execution_count": null,
   "metadata": {},
   "outputs": [],
   "source": []
  }
 ],
 "metadata": {
  "kernelspec": {
   "display_name": "Python 3",
   "language": "python",
   "name": "python3"
  },
  "language_info": {
   "codemirror_mode": {
    "name": "ipython",
    "version": 3
   },
   "file_extension": ".py",
   "mimetype": "text/x-python",
   "name": "python",
   "nbconvert_exporter": "python",
   "pygments_lexer": "ipython3",
   "version": "3.7.6"
  }
 },
 "nbformat": 4,
 "nbformat_minor": 4
}
